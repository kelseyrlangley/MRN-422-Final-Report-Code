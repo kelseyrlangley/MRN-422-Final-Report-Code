{
 "cells": [
  {
   "cell_type": "code",
   "execution_count": 24,
   "metadata": {},
   "outputs": [],
   "source": [
    "import numpy as np\n",
    "import random\n",
    "import sympy as sp\n",
    "import csv\n",
    "from matplotlib import pyplot as plt\n",
    "from matplotlib import axes\n",
    "import pandas as pd"
   ]
  },
  {
   "cell_type": "code",
   "execution_count": 25,
   "metadata": {},
   "outputs": [
    {
     "name": "stdout",
     "output_type": "stream",
     "text": [
      "[20.86591458 20.74972811 20.73241513 20.72073409 20.71760524 20.68735982\n",
      " 20.65711489 20.66003503 20.71030459 20.69591191 20.63145922 20.59829467\n",
      " 20.58932564 20.55970755 20.55970753 20.56638203 20.56241898 20.54656725\n",
      " 20.55115588 20.54802727 20.560959  ]\n",
      "[27.49153009 27.33857694 27.31224966 27.25687982 27.14321715 26.96667164\n",
      " 26.76799022 26.54028393 26.31760619 26.15885779 25.99510483 25.84054917\n",
      " 25.71064408 25.594319   25.49512178 25.41284222 25.33912684 25.27272174\n",
      " 25.20631804 25.14931231 25.10838536]\n"
     ]
    }
   ],
   "source": [
    "#theoretical_temps = DigiCal_vals[1]\n",
    "array = np.arange(1,22)\n",
    "\n",
    "PT100_inlet = []\n",
    "PT100_outlet = []\n",
    "\n",
    "for i in array:\n",
    "    i = int(i)\n",
    "    PT_100_i = np.array(pd.read_table(\"{}.txt\".format(i)))[:200,77]\n",
    "    PT_100_i_avg = np.mean(PT_100_i)\n",
    "    PT100_inlet.append(PT_100_i_avg)\n",
    "    PT_100_o = np.array(pd.read_table(\"{}.txt\".format(i)))[:200,78]\n",
    "    PT_100_o_avg = np.mean(PT_100_o)\n",
    "    PT100_outlet.append(PT_100_o_avg)\n",
    "\n",
    "print(np.array(PT100_inlet))\n",
    "print(np.array(PT100_outlet))"
   ]
  },
  {
   "cell_type": "code",
   "execution_count": 26,
   "metadata": {},
   "outputs": [
    {
     "data": {
      "text/plain": [
       "21"
      ]
     },
     "execution_count": 26,
     "metadata": {},
     "output_type": "execute_result"
    }
   ],
   "source": [
    "len(PT100_inlet)"
   ]
  },
  {
   "cell_type": "code",
   "execution_count": 32,
   "metadata": {},
   "outputs": [
    {
     "data": {
      "image/png": "[encoded data removed]",
      "text/plain": [
       "<Figure size 432x288 with 1 Axes>"
      ]
     },
     "metadata": {
      "needs_background": "light"
     },
     "output_type": "display_data"
    }
   ],
   "source": [
    "time = np.arange(0,21,1)\n",
    "\n",
    "y1 = np.array(PT100_inlet)\n",
    "y2 = np.array(PT100_outlet)\n",
    "\n",
    "#plt.plot(time,y1,color= 'b',label = \"PT100_i\")\n",
    "plt.scatter(time,y1,label = \"PT100 Inlet\")\n",
    "#plt.plot(time,y2,color= 'r',label = \"PT100_o\")\n",
    "plt.scatter(time,y2,label = \"PT100 Outlet\")\n",
    "plt.title(\"PT100 Inlet and Outlet Temperature vs Time\")\n",
    "plt.xlabel(\"Time [min]\")\n",
    "plt.ylabel(\"Temperature [\\u2103]\")\n",
    "\n",
    "plt.savefig('SS Check leg.svg', format='svg', dpi=1200)\n",
    "#plt.tight_layout(pad=3)\n",
    "plt.legend(loc = \"upper right\")\n",
    "plt.savefig('SS Check leg.svg', format='svg', dpi=1200)\n",
    "plt.show()"
   ]
  },
  {
   "cell_type": "code",
   "execution_count": 28,
   "metadata": {},
   "outputs": [],
   "source": [
    "#took 20mins before start recording, waited another 25 mins and was still steady"
   ]
  },
  {
   "cell_type": "code",
   "execution_count": null,
   "metadata": {},
   "outputs": [],
   "source": []
  }
 ],
 "metadata": {
  "kernelspec": {
   "display_name": "Python 3",
   "language": "python",
   "name": "python3"
  },
  "language_info": {
   "codemirror_mode": {
    "name": "ipython",
    "version": 3
   },
   "file_extension": ".py",
   "mimetype": "text/x-python",
   "name": "python",
   "nbconvert_exporter": "python",
   "pygments_lexer": "ipython3",
   "version": "3.8.3"
  }
 },
 "nbformat": 4,
 "nbformat_minor": 4
}
