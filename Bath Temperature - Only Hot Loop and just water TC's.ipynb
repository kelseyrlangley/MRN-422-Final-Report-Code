{
 "cells": [
  {
   "cell_type": "code",
   "execution_count": 1,
   "metadata": {},
   "outputs": [],
   "source": [
    "import numpy as np\n",
    "import random\n",
    "import sympy as sp\n",
    "import csv\n",
    "from matplotlib import pyplot as plt\n",
    "from matplotlib import axes\n",
    "import pandas as pd"
   ]
  },
  {
   "cell_type": "code",
   "execution_count": 2,
   "metadata": {},
   "outputs": [
    {
     "name": "stdout",
     "output_type": "stream",
     "text": [
      "[50.14476149499999, 49.65855001, 49.587369315, 49.920634664999994, 50.3905551, 50.572245249999995, 50.39245746, 50.436673505, 50.87940017000001, 50.682246785000004, 50.723961714999994, 50.956338125, 50.640987380000006, 50.837991300000006, 50.44987686, 50.421321955, 50.69193112, 50.77427471, 51.02446457, 50.701767535, 50.791084229999996, 50.86660351, 50.759599314999996, 50.42516536, 50.25659449500001, 50.65505778, 50.06758276000001, 50.26605987999999, 50.619355219999996, 50.554743085, 50.580367045, 50.132527705, 50.688244095, 50.27679093999999, 50.204490495, 50.286617545000006, 50.403224995, 50.071425729999994, 50.369335539999994, 50.42861715, 50.349222615, 50.486162119999996, 50.827030959999995, 50.70355783, 50.818775205, 45.295696555000006, 45.74166225, 45.692436074999996, 45.66368902, 50.8669491, 50.988561675, 50.92805243, 50.682535554999994, 50.553249109999996, 50.522455814999994, 50.28359214]\n",
      "50.16062364919643\n"
     ]
    }
   ],
   "source": [
    "def func(file):\n",
    "    cat = []\n",
    "    for i in range(0,60):\n",
    "        templist = np.array(pd.read_table(\"{}.txt\".format(file)))[:200,i]\n",
    "        ave = np.mean(templist)\n",
    "        if 0 < ave < 100:\n",
    "            cat.append(ave)\n",
    "        else:\n",
    "            continue\n",
    "    return cat\n",
    "    #print(templist)\n",
    "        #print(ave)\n",
    "print(func(1))\n",
    "print(np.mean(func(1)))"
   ]
  },
  {
   "cell_type": "code",
   "execution_count": 3,
   "metadata": {},
   "outputs": [
    {
     "name": "stdout",
     "output_type": "stream",
     "text": [
      "56\n",
      "50.16062364919643\n"
     ]
    }
   ],
   "source": [
    "print(len(func(1))) #dead ones removed\n",
    "print(np.mean(func(1)))"
   ]
  },
  {
   "cell_type": "code",
   "execution_count": 4,
   "metadata": {},
   "outputs": [
    {
     "name": "stdout",
     "output_type": "stream",
     "text": [
      "[50.16062365 50.29374409 50.47857598 50.45553827 50.1267179  50.22984156]\n"
     ]
    }
   ],
   "source": [
    "y = np.array([np.mean(func(1)),np.mean(func(2)), np.mean(func(3)), np.mean(func(4)), np.mean(func(5)), np.mean(func(6))])\n",
    "print(y)"
   ]
  },
  {
   "cell_type": "code",
   "execution_count": 5,
   "metadata": {},
   "outputs": [
    {
     "data": {
      "image/png": "[encoded data removed]",
      "text/plain": [
       "<Figure size 432x288 with 1 Axes>"
      ]
     },
     "metadata": {
      "needs_background": "light"
     },
     "output_type": "display_data"
    }
   ],
   "source": [
    "x = np.array([0,2,4,6,8,10])\n",
    "\n",
    "\n",
    "plt.scatter(x, y)\n",
    "plt.plot(x,y, linestyle= \"dashed\")\n",
    "#plt.axhline(y=50,xmin=0,xmax=1,linestyle='dashed',c=\"k\")\n",
    "plt.axis([-0.5,10.5,0,60])\n",
    "\n",
    "plt.ylabel(\"Bath Temperature [\\u2103]\",fontsize=9)\n",
    "plt.xlabel(\"Time [min]\",fontsize=9)\n",
    "#plt.title(\"Bath Temperature Over Time\",fontsize=15)\n",
    "plt.savefig('Bath temp hot only.svg', format='svg', dpi=1200)\n",
    "plt.show()"
   ]
  },
  {
   "cell_type": "code",
   "execution_count": 6,
   "metadata": {},
   "outputs": [],
   "source": [
    "#bath temp with only hot loop running, including TCs just in bath water"
   ]
  },
  {
   "cell_type": "markdown",
   "metadata": {},
   "source": [
    "# Just TCs in Bath for CONTROL"
   ]
  },
  {
   "cell_type": "code",
   "execution_count": 7,
   "metadata": {},
   "outputs": [
    {
     "name": "stdout",
     "output_type": "stream",
     "text": [
      "[50.33280449833334, 49.8342708325, 49.77789762416666, 50.10021584833333, 50.56761393666667, 50.7496904525, 50.569485613333335]\n"
     ]
    }
   ],
   "source": [
    "yvals = []\n",
    "for i in range(0,7):\n",
    "    ans = (func(1)[i] + func(2)[i] +func(3)[i] +func(4)[i]+ func(5)[i] + func(6)[i] )/6\n",
    "    yvals.append(ans)\n",
    "print(yvals)"
   ]
  },
  {
   "cell_type": "code",
   "execution_count": 8,
   "metadata": {},
   "outputs": [
    {
     "name": "stdout",
     "output_type": "stream",
     "text": [
      "50.659588032916666\n"
     ]
    },
    {
     "data": {
      "image/png": "[encoded data removed]",
      "text/plain": [
       "<Figure size 432x288 with 1 Axes>"
      ]
     },
     "metadata": {
      "needs_background": "light"
     },
     "output_type": "display_data"
    }
   ],
   "source": [
    "sta1 = (yvals[0] + yvals[1])/2\n",
    "sta2 = (yvals[2] + yvals[3])/2\n",
    "sta3 = yvals[4]\n",
    "sta4 = (yvals[5] + yvals[6])/2\n",
    "\n",
    "print(sta4)\n",
    "\n",
    "x = np.array([1300,2800,4100,5000])\n",
    "y = np.array([sta1, sta2, sta3, sta4])\n",
    "\n",
    "plt.scatter(x, y)\n",
    "plt.plot(x,y, linestyle = 'dashed')\n",
    "#plt.axhline(y=50,xmin=0,xmax=1,linestyle='dashed',c=\"k\")\n",
    "plt.axis([0,5500,0,60])\n",
    "\n",
    "plt.ylabel(\"Bath Temperature [\\u2103]\",fontsize=9)\n",
    "plt.xlabel(\"Axial Position [mm]\",fontsize=9)\n",
    "#plt.title(\"Control Thermocouple Temperatures\",fontsize=15)\n",
    "plt.savefig('Bath temp CONTROL.svg', format='svg', dpi=1200)\n",
    "plt.show()"
   ]
  },
  {
   "cell_type": "code",
   "execution_count": null,
   "metadata": {},
   "outputs": [],
   "source": []
  },
  {
   "cell_type": "code",
   "execution_count": null,
   "metadata": {},
   "outputs": [],
   "source": []
  }
 ],
 "metadata": {
  "kernelspec": {
   "display_name": "Python 3",
   "language": "python",
   "name": "python3"
  },
  "language_info": {
   "codemirror_mode": {
    "name": "ipython",
    "version": 3
   },
   "file_extension": ".py",
   "mimetype": "text/x-python",
   "name": "python",
   "nbconvert_exporter": "python",
   "pygments_lexer": "ipython3",
   "version": "3.8.3"
  }
 },
 "nbformat": 4,
 "nbformat_minor": 4
}
